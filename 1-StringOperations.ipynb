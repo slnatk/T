{
 "cells": [
  {
   "cell_type": "code",
   "execution_count": 1,
   "id": "0f4a9359-7130-45c8-bc7f-dcd23beb6ea7",
   "metadata": {},
   "outputs": [],
   "source": [
    "names = [\"james\",\"kirk\",\"lars\",\"rob\"]"
   ]
  },
  {
   "cell_type": "code",
   "execution_count": 2,
   "id": "4ac96414-5d8d-4284-9e84-8833ae42ffb9",
   "metadata": {},
   "outputs": [
    {
     "name": "stdout",
     "output_type": "stream",
     "text": [
      "(0, 'james')\n",
      "(1, 'kirk')\n",
      "(2, 'lars')\n",
      "(3, 'rob')\n"
     ]
    }
   ],
   "source": [
    "for i in enumerate(names):\n",
    "    print(i)"
   ]
  },
  {
   "cell_type": "code",
   "execution_count": 3,
   "id": "3a8d0c5c-8bcc-4360-962a-3b9bf8e19d36",
   "metadata": {},
   "outputs": [
    {
     "name": "stdout",
     "output_type": "stream",
     "text": [
      "(0, 'n')\n",
      "(1, 'a')\n",
      "(2, 'm')\n",
      "(3, 'e')\n",
      "(4, 's')\n"
     ]
    }
   ],
   "source": [
    "for i in enumerate(\"names\"):\n",
    "    print(i)"
   ]
  },
  {
   "cell_type": "code",
   "execution_count": 4,
   "id": "cbf7b64d-4fc0-40c8-a55a-9323e996560d",
   "metadata": {},
   "outputs": [
    {
     "name": "stdout",
     "output_type": "stream",
     "text": [
      "(4, 'james')\n",
      "(5, 'kirk')\n",
      "(6, 'lars')\n",
      "(7, 'rob')\n"
     ]
    }
   ],
   "source": [
    "for i in enumerate(names,4):\n",
    "    print(i)"
   ]
  },
  {
   "cell_type": "code",
   "execution_count": 5,
   "id": "46933cd6-a1f8-4d1b-a49a-ffaaa25a3431",
   "metadata": {},
   "outputs": [],
   "source": [
    "# Dizi için Tip Sorgulamaları"
   ]
  },
  {
   "cell_type": "code",
   "execution_count": 6,
   "id": "373231b1-c224-4dd9-9e4c-cf5918c4e5ef",
   "metadata": {},
   "outputs": [
    {
     "data": {
      "text/plain": [
       "True"
      ]
     },
     "execution_count": 6,
     "metadata": {},
     "output_type": "execute_result"
    }
   ],
   "source": [
    "\"mvk\".isalpha()"
   ]
  },
  {
   "cell_type": "code",
   "execution_count": 7,
   "id": "696bf87a-2c08-4cee-83c2-1d9f36fc5b25",
   "metadata": {},
   "outputs": [
    {
     "data": {
      "text/plain": [
       "False"
      ]
     },
     "execution_count": 7,
     "metadata": {},
     "output_type": "execute_result"
    }
   ],
   "source": [
    "\"mvk30\".isalpha()"
   ]
  },
  {
   "cell_type": "code",
   "execution_count": 8,
   "id": "d08fef19-c732-4884-abdb-a5e54ec0e5d1",
   "metadata": {},
   "outputs": [
    {
     "data": {
      "text/plain": [
       "True"
      ]
     },
     "execution_count": 8,
     "metadata": {},
     "output_type": "execute_result"
    }
   ],
   "source": [
    "\"123\".isnumeric()"
   ]
  },
  {
   "cell_type": "code",
   "execution_count": 9,
   "id": "600f3de3-0274-450f-8816-1780b6e94c9d",
   "metadata": {},
   "outputs": [
    {
     "data": {
      "text/plain": [
       "True"
      ]
     },
     "execution_count": 9,
     "metadata": {},
     "output_type": "execute_result"
    }
   ],
   "source": [
    "\"123\".isdigit()"
   ]
  },
  {
   "cell_type": "code",
   "execution_count": 10,
   "id": "1299b5a2-4ac3-4fd4-a99b-a7f57178eb97",
   "metadata": {},
   "outputs": [
    {
     "data": {
      "text/plain": [
       "True"
      ]
     },
     "execution_count": 10,
     "metadata": {},
     "output_type": "execute_result"
    }
   ],
   "source": [
    "\"123\".isalnum() # alfeberik ve numerik olmasını aynı anda sorgulamış olduk."
   ]
  },
  {
   "cell_type": "code",
   "execution_count": 11,
   "id": "a47db1f6-bda7-441d-8c09-393a9ca44874",
   "metadata": {},
   "outputs": [],
   "source": [
    "# Elemanlarına ve eleman Indexlerine Erişmek "
   ]
  },
  {
   "cell_type": "code",
   "execution_count": 12,
   "id": "87714a00-ba5b-4ab7-91ad-d00c625f3e34",
   "metadata": {},
   "outputs": [
    {
     "data": {
      "text/plain": [
       "'mv'"
      ]
     },
     "execution_count": 12,
     "metadata": {},
     "output_type": "execute_result"
    }
   ],
   "source": [
    "name =\"mvk\"\n",
    "name[0:2]"
   ]
  },
  {
   "cell_type": "code",
   "execution_count": 13,
   "id": "7e4641c3-3994-4a6e-8a96-5a3a590e4904",
   "metadata": {},
   "outputs": [],
   "source": [
    "name = \"selinatik\""
   ]
  },
  {
   "cell_type": "code",
   "execution_count": 14,
   "id": "fffaf691-88c8-476c-8893-b5481f816896",
   "metadata": {},
   "outputs": [
    {
     "data": {
      "text/plain": [
       "4"
      ]
     },
     "execution_count": 14,
     "metadata": {},
     "output_type": "execute_result"
    }
   ],
   "source": [
    "name.index(\"n\")"
   ]
  },
  {
   "cell_type": "code",
   "execution_count": 15,
   "id": "a48d9ef6-bf19-46cd-87dc-c3430287e408",
   "metadata": {},
   "outputs": [
    {
     "data": {
      "text/plain": [
       "3"
      ]
     },
     "execution_count": 15,
     "metadata": {},
     "output_type": "execute_result"
    }
   ],
   "source": [
    "name.index(\"i\")"
   ]
  },
  {
   "cell_type": "code",
   "execution_count": 18,
   "id": "f7f181e5-64de-4c5b-9941-5d56cdbaa1b8",
   "metadata": {},
   "outputs": [],
   "source": [
    "# Başlangıç ve Bitiş Karakterlerini Sorgulamak: startwith(), endwith()"
   ]
  },
  {
   "cell_type": "code",
   "execution_count": 21,
   "id": "c77d9b22-d1a8-4325-a52b-f411831923da",
   "metadata": {},
   "outputs": [
    {
     "data": {
      "text/plain": [
       "True"
      ]
     },
     "execution_count": 21,
     "metadata": {},
     "output_type": "execute_result"
    }
   ],
   "source": [
    "name = \"Selin Atik\"\n",
    "name.startswith(\"S\")"
   ]
  },
  {
   "cell_type": "code",
   "execution_count": 22,
   "id": "1d8acde4-cbaa-4800-b1f0-9b5e85c8a377",
   "metadata": {},
   "outputs": [
    {
     "data": {
      "text/plain": [
       "2"
      ]
     },
     "execution_count": 22,
     "metadata": {},
     "output_type": "execute_result"
    }
   ],
   "source": [
    "name.count(\"i\")"
   ]
  },
  {
   "cell_type": "code",
   "execution_count": 23,
   "id": "6e092bca-0c97-4819-b369-a241ad36b43f",
   "metadata": {},
   "outputs": [],
   "source": [
    "# sorted"
   ]
  },
  {
   "cell_type": "code",
   "execution_count": 24,
   "id": "caca580e-e2ea-4e34-a63c-dd9e6b585005",
   "metadata": {},
   "outputs": [
    {
     "data": {
      "text/plain": [
       "['d', 'e', 'e', 'f', 'r', 't']"
      ]
     },
     "execution_count": 24,
     "metadata": {},
     "output_type": "execute_result"
    }
   ],
   "source": [
    "sorted(\"defter\")"
   ]
  },
  {
   "cell_type": "code",
   "execution_count": 25,
   "id": "959f12b6-e839-4414-b83d-a83b5c0c593a",
   "metadata": {},
   "outputs": [
    {
     "name": "stdout",
     "output_type": "stream",
     "text": [
      "deefrt\n"
     ]
    }
   ],
   "source": [
    "print(*sorted(\"defter\"), sep=\"\")"
   ]
  },
  {
   "cell_type": "code",
   "execution_count": 26,
   "id": "c865d23c-3c73-47dc-8831-be70592a4f75",
   "metadata": {},
   "outputs": [],
   "source": [
    "# Karakterleri Bölmek"
   ]
  },
  {
   "cell_type": "code",
   "execution_count": 27,
   "id": "2267c2f8-ccff-4af5-b989-21b2b157ef34",
   "metadata": {},
   "outputs": [],
   "source": [
    "name = \"Selin Atik\""
   ]
  },
  {
   "cell_type": "code",
   "execution_count": 28,
   "id": "244d7267-d1e1-44f0-a121-b1b401bf7d70",
   "metadata": {},
   "outputs": [
    {
     "data": {
      "text/plain": [
       "['Selin', 'Atik']"
      ]
     },
     "execution_count": 28,
     "metadata": {},
     "output_type": "execute_result"
    }
   ],
   "source": [
    "name.split()"
   ]
  },
  {
   "cell_type": "code",
   "execution_count": 29,
   "id": "068cf025-ddda-4c07-8e7b-d83eb301baa9",
   "metadata": {},
   "outputs": [
    {
     "data": {
      "text/plain": [
       "['Sel', 'n At', 'k']"
      ]
     },
     "execution_count": 29,
     "metadata": {},
     "output_type": "execute_result"
    }
   ],
   "source": [
    "name.split(\"i\")"
   ]
  },
  {
   "cell_type": "code",
   "execution_count": 30,
   "id": "be933680-656b-4522-ae45-ed17687a6ee0",
   "metadata": {},
   "outputs": [],
   "source": [
    "# Büyük Küçük Harf İşlemleri"
   ]
  },
  {
   "cell_type": "code",
   "execution_count": 31,
   "id": "f60d3b81-4d18-474d-8aa2-95199eb0b6b5",
   "metadata": {},
   "outputs": [
    {
     "data": {
      "text/plain": [
       "'SELIN ATIK'"
      ]
     },
     "execution_count": 31,
     "metadata": {},
     "output_type": "execute_result"
    }
   ],
   "source": [
    "name.upper()"
   ]
  },
  {
   "cell_type": "code",
   "execution_count": 33,
   "id": "b00e0993-824d-41ee-9757-aa9458e47d1b",
   "metadata": {},
   "outputs": [
    {
     "data": {
      "text/plain": [
       "'selin atik'"
      ]
     },
     "execution_count": 33,
     "metadata": {},
     "output_type": "execute_result"
    }
   ],
   "source": [
    "name.lower()"
   ]
  },
  {
   "cell_type": "code",
   "execution_count": 34,
   "id": "a243df39-28bf-4768-be6a-c61a1dadf5d9",
   "metadata": {},
   "outputs": [],
   "source": [
    "name_b = name.upper()"
   ]
  },
  {
   "cell_type": "code",
   "execution_count": 35,
   "id": "501b8818-111a-40a7-af19-7e53fea95598",
   "metadata": {},
   "outputs": [
    {
     "data": {
      "text/plain": [
       "True"
      ]
     },
     "execution_count": 35,
     "metadata": {},
     "output_type": "execute_result"
    }
   ],
   "source": [
    "name_b.isupper()"
   ]
  },
  {
   "cell_type": "code",
   "execution_count": 36,
   "id": "aef76f15-52de-4ddc-88b7-849760dda1f0",
   "metadata": {},
   "outputs": [],
   "source": [
    "# capitalize, title, swapcase"
   ]
  },
  {
   "cell_type": "code",
   "execution_count": 37,
   "id": "cd5dc9ff-1f73-4a14-83cd-57749650772b",
   "metadata": {},
   "outputs": [
    {
     "data": {
      "text/plain": [
       "'Selin atik'"
      ]
     },
     "execution_count": 37,
     "metadata": {},
     "output_type": "execute_result"
    }
   ],
   "source": [
    "name.capitalize()"
   ]
  },
  {
   "cell_type": "code",
   "execution_count": 38,
   "id": "c72b2ff3-28be-432a-a5a8-c0c25645dc48",
   "metadata": {},
   "outputs": [
    {
     "data": {
      "text/plain": [
       "'Selin Atik'"
      ]
     },
     "execution_count": 38,
     "metadata": {},
     "output_type": "execute_result"
    }
   ],
   "source": [
    "name.title()"
   ]
  },
  {
   "cell_type": "code",
   "execution_count": 39,
   "id": "b86b8d2b-9019-4c53-85c7-97ce3d66807e",
   "metadata": {},
   "outputs": [
    {
     "data": {
      "text/plain": [
       "'sELIN aTIK'"
      ]
     },
     "execution_count": 39,
     "metadata": {},
     "output_type": "execute_result"
    }
   ],
   "source": [
    "name.swapcase()"
   ]
  },
  {
   "cell_type": "code",
   "execution_count": 1,
   "id": "0e38eafd-0cdf-4f69-b953-6642826fc25e",
   "metadata": {},
   "outputs": [],
   "source": [
    "# İstenmeyen Karakterleri Kırpmak. strip(), lstrip, rstrip"
   ]
  },
  {
   "cell_type": "code",
   "execution_count": 2,
   "id": "5af5b700-124e-438e-af07-27f275716316",
   "metadata": {},
   "outputs": [],
   "source": [
    "name = \" hello \""
   ]
  },
  {
   "cell_type": "code",
   "execution_count": 3,
   "id": "21d9c17f-f849-4369-ace9-2b5606a3426a",
   "metadata": {},
   "outputs": [
    {
     "data": {
      "text/plain": [
       "'hello'"
      ]
     },
     "execution_count": 3,
     "metadata": {},
     "output_type": "execute_result"
    }
   ],
   "source": [
    "name.strip() # boşlukları kırpar"
   ]
  },
  {
   "cell_type": "code",
   "execution_count": 4,
   "id": "50d74719-9dae-4569-88b6-ab5db15db086",
   "metadata": {},
   "outputs": [],
   "source": [
    "name = \"*hello*\""
   ]
  },
  {
   "cell_type": "code",
   "execution_count": 5,
   "id": "d3a514f5-5df9-47b3-b8cf-c003655bcdc1",
   "metadata": {},
   "outputs": [
    {
     "data": {
      "text/plain": [
       "'hello'"
      ]
     },
     "execution_count": 5,
     "metadata": {},
     "output_type": "execute_result"
    }
   ],
   "source": [
    "name.strip(\"*\")"
   ]
  },
  {
   "cell_type": "code",
   "execution_count": 6,
   "id": "c8f7d924-3d77-4402-9e6e-c6435595db1a",
   "metadata": {},
   "outputs": [],
   "source": [
    "#rstrip() sağdakini, lstrip soldakini siler"
   ]
  },
  {
   "cell_type": "code",
   "execution_count": 7,
   "id": "939b5d54-c53f-45b9-8f48-5381be4c3c83",
   "metadata": {},
   "outputs": [],
   "source": [
    "# join : bölünmüş ya da zaten bölünmüş olan ifadelerin birleştirilmesi"
   ]
  },
  {
   "cell_type": "code",
   "execution_count": 8,
   "id": "f4d64d23-53e7-473c-b89f-27ef33c8b064",
   "metadata": {},
   "outputs": [],
   "source": [
    "name = \"Selin Atik\"\n",
    "name_ = name.split()"
   ]
  },
  {
   "cell_type": "code",
   "execution_count": 9,
   "id": "7a49db92-491f-40e1-a94d-ba69b7f880f8",
   "metadata": {},
   "outputs": [
    {
     "data": {
      "text/plain": [
       "['Selin', 'Atik']"
      ]
     },
     "execution_count": 9,
     "metadata": {},
     "output_type": "execute_result"
    }
   ],
   "source": [
    "name_"
   ]
  },
  {
   "cell_type": "code",
   "execution_count": 10,
   "id": "96c5880b-3420-49e0-8812-4c79418055a4",
   "metadata": {},
   "outputs": [],
   "source": [
    "joiner = \" \""
   ]
  },
  {
   "cell_type": "code",
   "execution_count": 11,
   "id": "2fa89e98-106b-4801-96b5-aa4e30f58e3c",
   "metadata": {},
   "outputs": [
    {
     "data": {
      "text/plain": [
       "'Selin Atik'"
      ]
     },
     "execution_count": 11,
     "metadata": {},
     "output_type": "execute_result"
    }
   ],
   "source": [
    "joiner.join(name_)"
   ]
  },
  {
   "cell_type": "code",
   "execution_count": 12,
   "id": "cb867ffb-97f0-4185-aea3-c6394e9833dd",
   "metadata": {},
   "outputs": [],
   "source": [
    "joiner = \"****\""
   ]
  },
  {
   "cell_type": "code",
   "execution_count": 13,
   "id": "3f4f2e2e-af2e-4a1b-877b-b61ce831ad48",
   "metadata": {},
   "outputs": [
    {
     "data": {
      "text/plain": [
       "'Selin****Atik'"
      ]
     },
     "execution_count": 13,
     "metadata": {},
     "output_type": "execute_result"
    }
   ],
   "source": [
    "joiner.join(name_)"
   ]
  },
  {
   "cell_type": "code",
   "execution_count": 14,
   "id": "faf7f2ab-1b18-401b-b194-fdc1f80b29a2",
   "metadata": {},
   "outputs": [],
   "source": [
    "# Eleman Değiştirme: replace(), str.maketrans(), translate()"
   ]
  },
  {
   "cell_type": "code",
   "execution_count": 15,
   "id": "9f4e980c-f334-455d-9942-fef70a7bdcc8",
   "metadata": {},
   "outputs": [
    {
     "data": {
      "text/plain": [
       "'Selin Atik'"
      ]
     },
     "execution_count": 15,
     "metadata": {},
     "output_type": "execute_result"
    }
   ],
   "source": [
    "name"
   ]
  },
  {
   "cell_type": "code",
   "execution_count": 17,
   "id": "ab165fe1-12dd-433c-a58b-71935a398606",
   "metadata": {},
   "outputs": [
    {
     "data": {
      "text/plain": [
       "'Sclin Atik'"
      ]
     },
     "execution_count": 17,
     "metadata": {},
     "output_type": "execute_result"
    }
   ],
   "source": [
    "name.replace(\"e\",\"c\")"
   ]
  },
  {
   "cell_type": "code",
   "execution_count": 29,
   "id": "ceca22a1-4824-4c42-973f-099ed661c04c",
   "metadata": {},
   "outputs": [],
   "source": [
    "sentence = \"Bu ifade İçerisinde bazı Türkçe karakterler vardır\""
   ]
  },
  {
   "cell_type": "code",
   "execution_count": 30,
   "id": "a509f6af-277a-42be-98b1-c356b4bdbda4",
   "metadata": {},
   "outputs": [],
   "source": [
    "false_letters = \"çÇğĞıİöÖşŞüÜ\"\n",
    "true_letters = \"cCgGiIoOsSuU\"\n",
    "letter_corr = str.maketrans(false_letters, true_letters)"
   ]
  },
  {
   "cell_type": "code",
   "execution_count": 31,
   "id": "e754fa51-dd66-4077-80dd-809d4d19c258",
   "metadata": {},
   "outputs": [
    {
     "data": {
      "text/plain": [
       "'Bu ifade Icerisinde bazi Turkce karakterler vardir'"
      ]
     },
     "execution_count": 31,
     "metadata": {},
     "output_type": "execute_result"
    }
   ],
   "source": [
    "sentence.translate(letter_corr)"
   ]
  },
  {
   "cell_type": "code",
   "execution_count": 32,
   "id": "739e1e2d-2b3c-4aea-b06c-33c1df915181",
   "metadata": {},
   "outputs": [],
   "source": [
    "import pandas as pd\n",
    "names = [\"ayse\",\"Ayşe\",\"ali\",\"aali\", \"Ali\",\"veli\",\"mehmet\",\"berkcan\"]\n",
    "v = pd.Series(names)"
   ]
  },
  {
   "cell_type": "code",
   "execution_count": 33,
   "id": "65d2260f-aef4-4008-bbbe-e8c5d76ac449",
   "metadata": {},
   "outputs": [
    {
     "data": {
      "text/plain": [
       "0       ayse\n",
       "1       Ayşe\n",
       "2        ali\n",
       "3       aali\n",
       "4        Ali\n",
       "5       veli\n",
       "6     mehmet\n",
       "7    berkcan\n",
       "dtype: object"
      ]
     },
     "execution_count": 33,
     "metadata": {},
     "output_type": "execute_result"
    }
   ],
   "source": [
    "v"
   ]
  },
  {
   "cell_type": "code",
   "execution_count": 34,
   "id": "439fe5e7-bfba-4336-87f2-2e1dd48d0696",
   "metadata": {},
   "outputs": [
    {
     "data": {
      "text/plain": [
       "0    False\n",
       "1    False\n",
       "2     True\n",
       "3     True\n",
       "4    False\n",
       "5    False\n",
       "6    False\n",
       "7    False\n",
       "dtype: bool"
      ]
     },
     "execution_count": 34,
     "metadata": {},
     "output_type": "execute_result"
    }
   ],
   "source": [
    "v.str.contains(\"al\")"
   ]
  },
  {
   "cell_type": "code",
   "execution_count": 35,
   "id": "fb2d62fa-4b6e-4d64-af16-e8b058064145",
   "metadata": {},
   "outputs": [
    {
     "data": {
      "text/plain": [
       "2     ali\n",
       "3    aali\n",
       "dtype: object"
      ]
     },
     "execution_count": 35,
     "metadata": {},
     "output_type": "execute_result"
    }
   ],
   "source": [
    "v[v.str.contains(\"al\")]"
   ]
  },
  {
   "cell_type": "code",
   "execution_count": 36,
   "id": "0beeea44-1f64-4128-941d-02d8956e6d8c",
   "metadata": {},
   "outputs": [
    {
     "data": {
      "text/plain": [
       "2"
      ]
     },
     "execution_count": 36,
     "metadata": {},
     "output_type": "execute_result"
    }
   ],
   "source": [
    "v.str.contains(\"al\").sum()"
   ]
  },
  {
   "cell_type": "code",
   "execution_count": 37,
   "id": "c04dc847-b563-465a-a0a0-2dbf1e88d0b1",
   "metadata": {},
   "outputs": [
    {
     "data": {
      "text/plain": [
       "3"
      ]
     },
     "execution_count": 37,
     "metadata": {},
     "output_type": "execute_result"
    }
   ],
   "source": [
    "v.str.contains(\"[aA]li\").sum()"
   ]
  },
  {
   "cell_type": "code",
   "execution_count": null,
   "id": "ccfc9560-8f5a-4cf5-9b71-47f55c473d7d",
   "metadata": {},
   "outputs": [],
   "source": []
  }
 ],
 "metadata": {
  "kernelspec": {
   "display_name": "Python [conda env:base] *",
   "language": "python",
   "name": "conda-base-py"
  },
  "language_info": {
   "codemirror_mode": {
    "name": "ipython",
    "version": 3
   },
   "file_extension": ".py",
   "mimetype": "text/x-python",
   "name": "python",
   "nbconvert_exporter": "python",
   "pygments_lexer": "ipython3",
   "version": "3.10.9"
  }
 },
 "nbformat": 4,
 "nbformat_minor": 5
}
